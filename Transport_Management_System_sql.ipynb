{
  "nbformat": 4,
  "nbformat_minor": 0,
  "metadata": {
    "colab": {
      "provenance": [],
      "authorship_tag": "ABX9TyPG7ciWqs0oXXVVBFFWzCZ0",
      "include_colab_link": true
    },
    "kernelspec": {
      "name": "python3",
      "display_name": "Python 3"
    },
    "language_info": {
      "name": "python"
    }
  },
  "cells": [
    {
      "cell_type": "markdown",
      "metadata": {
        "id": "view-in-github",
        "colab_type": "text"
      },
      "source": [
        "<a href=\"https://colab.research.google.com/github/its-kanii/CRUD-SQL/blob/main/Transport_Management_System_sql.ipynb\" target=\"_parent\"><img src=\"https://colab.research.google.com/assets/colab-badge.svg\" alt=\"Open In Colab\"/></a>"
      ]
    },
    {
      "cell_type": "markdown",
      "source": [
        "#Transport Management System\n",
        "Let's implement CRUD operations in a Transport Management System, where we manage vehicle and driver records for a transportation company.\n",
        "#Step 1: Creating the Table (CREATE)\n",
        "We'll create a Vehicles table to store transport records."
      ],
      "metadata": {
        "id": "HVu147DrMwpd"
      }
    },
    {
      "cell_type": "code",
      "execution_count": null,
      "metadata": {
        "id": "kbCOeRSZMt0_"
      },
      "outputs": [],
      "source": [
        "%%sql\n",
        "CREATE TABLE Vehicles (\n",
        "    VehicleID INT PRIMARY KEY AUTO_INCREMENT,\n",
        "    VehicleNumber VARCHAR(20) UNIQUE,\n",
        "    DriverName VARCHAR(100),\n",
        "    Route VARCHAR(100),\n",
        "    Capacity INT,\n",
        "    Status VARCHAR(20),\n",
        "    LastServiceDate DATE\n",
        ");"
      ]
    },
    {
      "cell_type": "markdown",
      "source": [
        "#Step 2: Inserting Data (INSERT)\n",
        "Let's add some vehicle records."
      ],
      "metadata": {
        "id": "Pj3qSyYUM84M"
      }
    },
    {
      "cell_type": "code",
      "source": [
        "%%sql\n",
        "INSERT INTO Vehicles (VehicleNumber, DriverName, Route, Capacity, Status, LastServiceDate)\n",
        "VALUES\n",
        "('KA-01-AB-1234', 'John Doe', 'City Center to Airport', 40, 'Active', '2025-02-15'),\n",
        "('MH-02-CD-5678', 'Alice Smith', 'Downtown to Mall', 30, 'Active', '2025-01-20'),\n",
        "('DL-03-EF-9101', 'Bob Johnson', 'University to Train Station', 50, 'In Service', '2025-03-01');"
      ],
      "metadata": {
        "id": "DO3IPLfzM-B8"
      },
      "execution_count": null,
      "outputs": []
    },
    {
      "cell_type": "markdown",
      "source": [
        "#Step 3: Reading Data (SELECT)\n",
        "Retrieve all vehicles."
      ],
      "metadata": {
        "id": "YkkGs3I2NBxQ"
      }
    },
    {
      "cell_type": "code",
      "source": [
        "%%sql\n",
        "SELECT * FROM Vehicles;"
      ],
      "metadata": {
        "id": "FICKF1HbNEm3"
      },
      "execution_count": null,
      "outputs": []
    },
    {
      "cell_type": "markdown",
      "source": [
        "Retrieve vehicles on the City Center to Airport route."
      ],
      "metadata": {
        "id": "cw-zIzwDNFEs"
      }
    },
    {
      "cell_type": "code",
      "source": [
        "%%sql\n",
        "SELECT * FROM Vehicles WHERE Route = 'City Center to Airport';"
      ],
      "metadata": {
        "id": "EWXW30ZINHgq"
      },
      "execution_count": null,
      "outputs": []
    },
    {
      "cell_type": "markdown",
      "source": [
        "Retrieve vehicles that need service (last serviced before Feb 1, 2025).\n"
      ],
      "metadata": {
        "id": "4Lzs9Z2bNH43"
      }
    },
    {
      "cell_type": "code",
      "source": [
        "%%sql\n",
        "SELECT * FROM Vehicles WHERE LastServiceDate < '2025-02-01';"
      ],
      "metadata": {
        "id": "2fy6woZxNLru"
      },
      "execution_count": null,
      "outputs": []
    },
    {
      "cell_type": "markdown",
      "source": [
        "#Step 4: Updating Data (UPDATE)\n",
        "Let's say John Doe's vehicle is under maintenance, so we update its status."
      ],
      "metadata": {
        "id": "1PxDBZ48NWzV"
      }
    },
    {
      "cell_type": "code",
      "source": [
        "%%sql\n",
        "UPDATE Vehicles\n",
        "SET Status = 'Under Maintenance'\n",
        "WHERE VehicleNumber = 'KA-01-AB-1234';"
      ],
      "metadata": {
        "id": "NlmHEMpMNaGA"
      },
      "execution_count": null,
      "outputs": []
    },
    {
      "cell_type": "markdown",
      "source": [
        "If Bob Johnson’s vehicle underwent service on March 20, 2025, we update the service date."
      ],
      "metadata": {
        "id": "ICY_0_j6Neyx"
      }
    },
    {
      "cell_type": "code",
      "source": [
        "%%sql\n",
        "UPDATE Vehicles\n",
        "SET LastServiceDate = '2025-03-20'\n",
        "WHERE VehicleNumber = 'DL-03-EF-9101';"
      ],
      "metadata": {
        "id": "hII6hRqKNfjt"
      },
      "execution_count": null,
      "outputs": []
    },
    {
      "cell_type": "markdown",
      "source": [
        "#Step 5: Deleting Data (DELETE)\n",
        "If Alice Smith's vehicle is decommissioned, we remove its record."
      ],
      "metadata": {
        "id": "30e5zTyNNldt"
      }
    },
    {
      "cell_type": "code",
      "source": [
        "%%sql\n",
        "DELETE FROM Vehicles WHERE VehicleNumber = 'MH-02-CD-5678';"
      ],
      "metadata": {
        "id": "EHDZW7TfNmmB"
      },
      "execution_count": null,
      "outputs": []
    },
    {
      "cell_type": "markdown",
      "source": [
        "#Final Thoughts\n",
        "This example covers CRUD operations in Transport Management:\n",
        "\n",
        "* Create: We created the Vehicles table.\n",
        "\n",
        "* Insert: We added transport records.\n",
        "\n",
        "* Read: We retrieved transport data based on route and service date.\n",
        "\n",
        "* Update: We modified vehicle status and service records.\n",
        "\n",
        "* Delete: We removed a decommissioned vehicle.\n",
        "\n"
      ],
      "metadata": {
        "id": "2vjf6b_qNr6d"
      }
    }
  ]
}