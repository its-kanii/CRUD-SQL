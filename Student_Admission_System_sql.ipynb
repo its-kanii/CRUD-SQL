{
  "nbformat": 4,
  "nbformat_minor": 0,
  "metadata": {
    "colab": {
      "provenance": [],
      "authorship_tag": "ABX9TyPfrqRJ6/dsVaz3XaCXHq/3",
      "include_colab_link": true
    },
    "kernelspec": {
      "name": "python3",
      "display_name": "Python 3"
    },
    "language_info": {
      "name": "python"
    }
  },
  "cells": [
    {
      "cell_type": "markdown",
      "metadata": {
        "id": "view-in-github",
        "colab_type": "text"
      },
      "source": [
        "<a href=\"https://colab.research.google.com/github/its-kanii/CRUD-SQL/blob/main/Student_Admission_System_sql.ipynb\" target=\"_parent\"><img src=\"https://colab.research.google.com/assets/colab-badge.svg\" alt=\"Open In Colab\"/></a>"
      ]
    },
    {
      "cell_type": "markdown",
      "source": [
        "#Student Admission System\n",
        "Let's implement CRUD operations in a Student Admission System, where we manage student records in a school or university database.\n",
        "#Step 1: Creating the Table (CREATE)\n",
        "We'll create a Students table to store student admission records."
      ],
      "metadata": {
        "id": "86k9MzayLQq4"
      }
    },
    {
      "cell_type": "code",
      "execution_count": null,
      "metadata": {
        "id": "7HUt9-Y5LMz2"
      },
      "outputs": [],
      "source": [
        "%%sql\n",
        "CREATE TABLE Students (\n",
        "    StudentID INT PRIMARY KEY AUTO_INCREMENT,\n",
        "    Name VARCHAR(100),\n",
        "    Age INT,\n",
        "    Gender VARCHAR(10),\n",
        "    Course VARCHAR(50),\n",
        "    AdmissionDate DATE,\n",
        "    FeesPaid DECIMAL(10,2)\n",
        ");"
      ]
    },
    {
      "cell_type": "markdown",
      "source": [
        "#Step 2: Inserting Data (INSERT)\n",
        "Let's add some student records."
      ],
      "metadata": {
        "id": "covZEQLSLcZk"
      }
    },
    {
      "cell_type": "code",
      "source": [
        "%%sql\n",
        "INSERT INTO Students (Name, Age, Gender, Course, AdmissionDate, FeesPaid)\n",
        "VALUES\n",
        "('John Doe', 18, 'Male', 'Computer Science', '2025-03-10', 5000.00),\n",
        "('Alice Smith', 19, 'Female', 'Business Administration', '2025-03-12', 4800.00),\n",
        "('Bob Johnson', 20, 'Male', 'Mechanical Engineering', '2025-03-15', 5200.00);"
      ],
      "metadata": {
        "id": "rrzh_VXYLgJY"
      },
      "execution_count": null,
      "outputs": []
    },
    {
      "cell_type": "markdown",
      "source": [
        "#Step 3: Reading Data (SELECT)\n",
        "Retrieve all students."
      ],
      "metadata": {
        "id": "Ltdj7ijLLjgp"
      }
    },
    {
      "cell_type": "code",
      "source": [
        "%%sql\n",
        "SELECT * FROM Students;"
      ],
      "metadata": {
        "id": "Rk-4WZPgLnnk"
      },
      "execution_count": null,
      "outputs": []
    },
    {
      "cell_type": "markdown",
      "source": [
        "Retrieve students enrolled in Computer Science."
      ],
      "metadata": {
        "id": "1Ae8MOirLr2f"
      }
    },
    {
      "cell_type": "code",
      "source": [
        "%%sql\n",
        "SELECT * FROM Students WHERE Course = 'Computer Science';"
      ],
      "metadata": {
        "id": "HbUNUzmHLuPe"
      },
      "execution_count": null,
      "outputs": []
    },
    {
      "cell_type": "markdown",
      "source": [
        "Retrieve students admitted after March 12, 2025."
      ],
      "metadata": {
        "id": "cy6zhKNMLxmt"
      }
    },
    {
      "cell_type": "code",
      "source": [
        "%%sql\n",
        "SELECT * FROM Students WHERE AdmissionDate > '2025-03-12';"
      ],
      "metadata": {
        "id": "TMgzTJWIL2eS"
      },
      "execution_count": null,
      "outputs": []
    },
    {
      "cell_type": "markdown",
      "source": [
        "#Step 4: Updating Data (UPDATE)\n",
        "Let's say Alice Smith changed her course to Data Science."
      ],
      "metadata": {
        "id": "0uSFu4PnL8Kd"
      }
    },
    {
      "cell_type": "code",
      "source": [
        "%%sql\n",
        "UPDATE Students\n",
        "SET Course = 'Data Science'\n",
        "WHERE StudentID = 2;"
      ],
      "metadata": {
        "id": "pa88VmWQL9Wf"
      },
      "execution_count": null,
      "outputs": []
    },
    {
      "cell_type": "markdown",
      "source": [
        "If John Doe paid additional fees, we update his record."
      ],
      "metadata": {
        "id": "g3rcLaq-MBtk"
      }
    },
    {
      "cell_type": "code",
      "source": [
        "%%sql\n",
        "UPDATE Students\n",
        "SET FeesPaid = FeesPaid + 1000.00\n",
        "WHERE StudentID = 1;"
      ],
      "metadata": {
        "id": "XkO7wDAWMDzq"
      },
      "execution_count": null,
      "outputs": []
    },
    {
      "cell_type": "markdown",
      "source": [
        "#Step 5: Deleting Data (DELETE)\n",
        "If Bob Johnson cancels his admission, we remove his record."
      ],
      "metadata": {
        "id": "PS-vgUENMIQE"
      }
    },
    {
      "cell_type": "code",
      "source": [
        "%%sql\n",
        "DELETE FROM Students WHERE Name = 'Bob Johnson';"
      ],
      "metadata": {
        "id": "Qw56m1b5MJb1"
      },
      "execution_count": null,
      "outputs": []
    },
    {
      "cell_type": "markdown",
      "source": [
        "#Final Thoughts\n",
        "This example covers CRUD operations in a Student Admission System:\n",
        "\n",
        "* Create: We created the Students table.\n",
        "\n",
        "* Insert: We added student records.\n",
        "\n",
        "* Read: We retrieved student data based on course and admission date.\n",
        "\n",
        "* Update: We modified a student’s course and fee payment.\n",
        "\n",
        "* Delete: We removed a student who canceled their admission.\n",
        "\n",
        "\n"
      ],
      "metadata": {
        "id": "x6c8Z9GRMOhn"
      }
    }
  ]
}