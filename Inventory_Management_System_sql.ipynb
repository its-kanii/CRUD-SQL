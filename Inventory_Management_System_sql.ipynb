{
  "nbformat": 4,
  "nbformat_minor": 0,
  "metadata": {
    "colab": {
      "provenance": [],
      "authorship_tag": "ABX9TyPIoPje/N9yEEpKn/xePqJ+",
      "include_colab_link": true
    },
    "kernelspec": {
      "name": "python3",
      "display_name": "Python 3"
    },
    "language_info": {
      "name": "python"
    }
  },
  "cells": [
    {
      "cell_type": "markdown",
      "metadata": {
        "id": "view-in-github",
        "colab_type": "text"
      },
      "source": [
        "<a href=\"https://colab.research.google.com/github/its-kanii/CRUD-SQL/blob/main/Inventory_Management_System_sql.ipynb\" target=\"_parent\"><img src=\"https://colab.research.google.com/assets/colab-badge.svg\" alt=\"Open In Colab\"/></a>"
      ]
    },
    {
      "cell_type": "markdown",
      "source": [
        "#Inventory Management System\n",
        "Let's implement CRUD operations in an Inventory Management System, where we track product stocks in a warehouse.\n",
        "#Step 1: Creating the Table (CREATE)\n",
        "We'll create a Products table to store inventory records."
      ],
      "metadata": {
        "id": "jmqQa_ioOIgy"
      }
    },
    {
      "cell_type": "code",
      "source": [
        "%%sql\n",
        "CREATE TABLE Products (\n",
        "    ProductID INT PRIMARY KEY AUTO_INCREMENT,\n",
        "    ProductName VARCHAR(100),\n",
        "    Category VARCHAR(50),\n",
        "    Quantity INT,\n",
        "    Price DECIMAL(10,2),\n",
        "    Supplier VARCHAR(100),\n",
        "    LastRestocked DATE\n",
        ");"
      ],
      "metadata": {
        "id": "I4Yf9rZSOOzW"
      },
      "execution_count": null,
      "outputs": []
    },
    {
      "cell_type": "markdown",
      "source": [
        "#Step 2: Inserting Data (INSERT)\n",
        "Let's add some product records."
      ],
      "metadata": {
        "id": "r4pDK0sCOSiL"
      }
    },
    {
      "cell_type": "code",
      "execution_count": null,
      "metadata": {
        "id": "FJ19B5CEOFBb"
      },
      "outputs": [],
      "source": [
        "%%sql\n",
        "INSERT INTO Products (ProductName, Category, Quantity, Price, Supplier, LastRestocked)\n",
        "VALUES\n",
        "('Laptop', 'Electronics', 50, 800.00, 'Tech Supplies Ltd.', '2025-03-15'),\n",
        "('Office Chair', 'Furniture', 30, 120.00, 'Furniture Co.', '2025-03-10'),\n",
        "('Printer Paper', 'Office Supplies', 100, 5.00, 'Paper World', '2025-03-18');\n"
      ]
    },
    {
      "cell_type": "markdown",
      "source": [
        "#Step 3: Reading Data (SELECT)\n",
        "Retrieve all products."
      ],
      "metadata": {
        "id": "3lP2J7ryOZxA"
      }
    },
    {
      "cell_type": "code",
      "source": [
        "%%sql\n",
        "SELECT * FROM Products;\n"
      ],
      "metadata": {
        "id": "G159lGupOcZJ"
      },
      "execution_count": null,
      "outputs": []
    },
    {
      "cell_type": "markdown",
      "source": [
        "Retrieve products in the Electronics category."
      ],
      "metadata": {
        "id": "Z2sxhIioOfWP"
      }
    },
    {
      "cell_type": "code",
      "source": [
        "%%sql\n",
        "SELECT * FROM Products WHERE Category = 'Electronics';\n"
      ],
      "metadata": {
        "id": "WojUqimMOiNv"
      },
      "execution_count": null,
      "outputs": []
    },
    {
      "cell_type": "markdown",
      "source": [
        "Retrieve products with low stock (less than 20 items)."
      ],
      "metadata": {
        "id": "f0T_MYTWOksZ"
      }
    },
    {
      "cell_type": "code",
      "source": [
        "%%sql\n",
        "SELECT * FROM Products WHERE Quantity < 20;\n"
      ],
      "metadata": {
        "id": "kWxyqBbVOm-N"
      },
      "execution_count": null,
      "outputs": []
    },
    {
      "cell_type": "markdown",
      "source": [
        "#Step 4: Updating Data (UPDATE)\n",
        "Let's say we receive 20 more office chairs, so we update the quantity and restocking date."
      ],
      "metadata": {
        "id": "8yzNr-gMOu1h"
      }
    },
    {
      "cell_type": "code",
      "source": [
        "%%sql\n",
        "UPDATE Products\n",
        "SET Quantity = Quantity + 20, LastRestocked = '2025-03-20'\n",
        "WHERE ProductName = 'Office Chair';\n"
      ],
      "metadata": {
        "id": "x2MKQidOOx27"
      },
      "execution_count": null,
      "outputs": []
    },
    {
      "cell_type": "markdown",
      "source": [
        "If the price of printer paper increases, we update the price."
      ],
      "metadata": {
        "id": "gDDVNDzsO01K"
      }
    },
    {
      "cell_type": "code",
      "source": [
        "%%sql\n",
        "UPDATE Products\n",
        "SET Price = 6.00\n",
        "WHERE ProductName = 'Printer Paper';\n"
      ],
      "metadata": {
        "id": "PqcWnHebO4Zy"
      },
      "execution_count": null,
      "outputs": []
    },
    {
      "cell_type": "markdown",
      "source": [
        "#Step 5: Deleting Data (DELETE)\n",
        "If laptops are discontinued, we remove them from the inventory."
      ],
      "metadata": {
        "id": "ucJkKBJLO9OP"
      }
    },
    {
      "cell_type": "code",
      "source": [
        "%%sql\n",
        "DELETE FROM Products WHERE ProductName = 'Laptop';\n"
      ],
      "metadata": {
        "id": "zgtGg1jBO_bH"
      },
      "execution_count": null,
      "outputs": []
    },
    {
      "cell_type": "markdown",
      "source": [
        "#Final Thoughts\n",
        "This example covers CRUD operations in Inventory Management:\n",
        "\n",
        "* Create: We created the Products table.\n",
        "\n",
        "* Insert: We added product records.\n",
        "\n",
        "* Read: We retrieved inventory details.\n",
        "\n",
        "* Update: We modified stock levels and pricing.\n",
        "\n",
        "* Delete: We removed a discontinued product.\n",
        "\n"
      ],
      "metadata": {
        "id": "sh24U816PEUm"
      }
    }
  ]
}