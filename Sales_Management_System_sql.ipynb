{
  "nbformat": 4,
  "nbformat_minor": 0,
  "metadata": {
    "colab": {
      "provenance": [],
      "authorship_tag": "ABX9TyM/JGQGH/3roGqekbSOUc52",
      "include_colab_link": true
    },
    "kernelspec": {
      "name": "python3",
      "display_name": "Python 3"
    },
    "language_info": {
      "name": "python"
    }
  },
  "cells": [
    {
      "cell_type": "markdown",
      "metadata": {
        "id": "view-in-github",
        "colab_type": "text"
      },
      "source": [
        "<a href=\"https://colab.research.google.com/github/its-kanii/CRUD-SQL/blob/main/Sales_Management_System_sql.ipynb\" target=\"_parent\"><img src=\"https://colab.research.google.com/assets/colab-badge.svg\" alt=\"Open In Colab\"/></a>"
      ]
    },
    {
      "cell_type": "markdown",
      "source": [
        "#Sales Management System\n",
        "CRUD operations in SQL—Create, Read, Update, and Delete—are fundamental for managing data in a database.\n",
        "\n",
        "Let’s consider a Sales Management System as a real-time example.\n",
        "#Step 1: Creating the Table (CREATE)\n",
        "We'll create a Sales table that stores sales transactions."
      ],
      "metadata": {
        "id": "mWS8PHgpGKzX"
      }
    },
    {
      "cell_type": "code",
      "execution_count": 1,
      "metadata": {
        "id": "o-wcKPC_F-Md"
      },
      "outputs": [],
      "source": [
        "%%sql\n",
        "CREATE TABLE Sales (\n",
        "    SaleID INT PRIMARY KEY AUTO_INCREMENT,\n",
        "    ProductName VARCHAR(100),\n",
        "    CustomerName VARCHAR(100),\n",
        "    Quantity INT,\n",
        "    Price DECIMAL(10,2),\n",
        "    SaleDate DATE\n",
        ");"
      ]
    },
    {
      "cell_type": "markdown",
      "source": [
        "#Step 2: Inserting Data (INSERT)\n",
        "Let's insert some sales records."
      ],
      "metadata": {
        "id": "T9KHe37GGhj6"
      }
    },
    {
      "cell_type": "code",
      "source": [
        "%%sql\n",
        "INSERT INTO Sales (ProductName, CustomerName, Quantity, Price, SaleDate)\n",
        "VALUES\n",
        "('Laptop', 'John Doe', 1, 1000.00, '2025-03-21'),\n",
        "('Smartphone', 'Alice Smith', 2, 500.00, '2025-03-20'),\n",
        "('Headphones', 'Bob Johnson', 3, 100.00, '2025-03-19');\n"
      ],
      "metadata": {
        "id": "lqQwS4oKGikW"
      },
      "execution_count": null,
      "outputs": []
    },
    {
      "cell_type": "markdown",
      "source": [
        "#Step 3: Reading Data (SELECT)\n",
        "Retrieve all sales records."
      ],
      "metadata": {
        "id": "hKCR-59lGorI"
      }
    },
    {
      "cell_type": "code",
      "source": [
        "%%sql\n",
        "SELECT * FROM Sales;"
      ],
      "metadata": {
        "id": "R1_-yR6UGqBF"
      },
      "execution_count": null,
      "outputs": []
    },
    {
      "cell_type": "markdown",
      "source": [
        "Retrieve sales for a specific customer:"
      ],
      "metadata": {
        "id": "Qe3rbpXxGuz6"
      }
    },
    {
      "cell_type": "code",
      "source": [
        "%%sql\n",
        "SELECT * FROM Sales WHERE CustomerName = 'John Doe';"
      ],
      "metadata": {
        "id": "fMVH-NIRGyzR"
      },
      "execution_count": null,
      "outputs": []
    },
    {
      "cell_type": "markdown",
      "source": [
        "#Step 4: Updating Data (UPDATE)\n",
        "Let's say John Doe bought 2 laptops instead of 1. We update the record:"
      ],
      "metadata": {
        "id": "y9e4_artG6xh"
      }
    },
    {
      "cell_type": "code",
      "source": [
        "%%sql\n",
        "UPDATE Sales\n",
        "SET Quantity = 2, Price = 2000.00\n",
        "WHERE SaleID = 1;"
      ],
      "metadata": {
        "id": "bMWWo8Q9G0pg"
      },
      "execution_count": null,
      "outputs": []
    },
    {
      "cell_type": "markdown",
      "source": [
        "#Step 5: Deleting Data (DELETE)\n",
        "If Bob Johnson's transaction needs to be removed, we delete his record:"
      ],
      "metadata": {
        "id": "xY-IQc5FHCBX"
      }
    },
    {
      "cell_type": "code",
      "source": [
        "%%sql\n",
        "DELETE FROM Sales WHERE CustomerName = 'Bob Johnson';"
      ],
      "metadata": {
        "id": "xAWE7vHuG0DT"
      },
      "execution_count": null,
      "outputs": []
    },
    {
      "cell_type": "markdown",
      "source": [
        "#Final Thoughts\n",
        "This example covers all CRUD operations in a real-time Sales Management context:\n",
        "\n",
        "* Create: We created the Sales table.\n",
        "\n",
        "* Insert: We added sales records.\n",
        "\n",
        "* Read: We retrieved sales data.\n",
        "\n",
        "* Update: We modified a sale transaction.\n",
        "\n",
        "* Delete: We removed a specific sale.\n",
        "\n",
        "\n",
        "\n",
        "\n"
      ],
      "metadata": {
        "id": "uufQPXKwHMHc"
      }
    }
  ]
}