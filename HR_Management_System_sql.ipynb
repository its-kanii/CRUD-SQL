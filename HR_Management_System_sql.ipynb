{
  "nbformat": 4,
  "nbformat_minor": 0,
  "metadata": {
    "colab": {
      "provenance": [],
      "authorship_tag": "ABX9TyPhlKPqFFaghMIiC1d2DlbX",
      "include_colab_link": true
    },
    "kernelspec": {
      "name": "python3",
      "display_name": "Python 3"
    },
    "language_info": {
      "name": "python"
    }
  },
  "cells": [
    {
      "cell_type": "markdown",
      "metadata": {
        "id": "view-in-github",
        "colab_type": "text"
      },
      "source": [
        "<a href=\"https://colab.research.google.com/github/its-kanii/CRUD-SQL/blob/main/HR_Management_System_sql.ipynb\" target=\"_parent\"><img src=\"https://colab.research.google.com/assets/colab-badge.svg\" alt=\"Open In Colab\"/></a>"
      ]
    },
    {
      "cell_type": "markdown",
      "source": [
        "#HR Management System\n",
        "Let's implement CRUD operations in an HR Management System, where we manage employee records in a company database.\n",
        "#Step 1: Creating the Table (CREATE)\n",
        "We'll create an Employees table to store employee records."
      ],
      "metadata": {
        "id": "EupucTj4J2Y2"
      }
    },
    {
      "cell_type": "code",
      "execution_count": null,
      "metadata": {
        "id": "oLAeBYFTJv7W"
      },
      "outputs": [],
      "source": [
        "%%sql\n",
        "CREATE TABLE Employees (\n",
        "    EmployeeID INT PRIMARY KEY AUTO_INCREMENT,\n",
        "    Name VARCHAR(100),\n",
        "    Age INT,\n",
        "    Gender VARCHAR(10),\n",
        "    Department VARCHAR(50),\n",
        "    Salary DECIMAL(10,2),\n",
        "    HireDate DATE\n",
        ");"
      ]
    },
    {
      "cell_type": "markdown",
      "source": [
        "#Step 2: Inserting Data (INSERT)\n",
        "Let's add some employee records."
      ],
      "metadata": {
        "id": "ont2Bfp5KBM-"
      }
    },
    {
      "cell_type": "code",
      "source": [
        "%%sql\n",
        "INSERT INTO Employees (Name, Age, Gender, Department, Salary, HireDate)\n",
        "VALUES\n",
        "('John Doe', 35, 'Male', 'IT', 75000.00, '2022-06-15'),\n",
        "('Alice Smith', 28, 'Female', 'HR', 65000.00, '2023-01-10'),\n",
        "('Bob Johnson', 40, 'Male', 'Finance', 80000.00, '2021-09-25');"
      ],
      "metadata": {
        "id": "tbYC_BNoKFAd"
      },
      "execution_count": null,
      "outputs": []
    },
    {
      "cell_type": "markdown",
      "source": [
        "#Step 3: Reading Data (SELECT)\n",
        "Retrieve all employees."
      ],
      "metadata": {
        "id": "KUchCbebKI7i"
      }
    },
    {
      "cell_type": "code",
      "source": [
        "%%sql\n",
        "SELECT * FROM Employees;"
      ],
      "metadata": {
        "id": "thHekfoeKMCA"
      },
      "execution_count": null,
      "outputs": []
    },
    {
      "cell_type": "markdown",
      "source": [
        "Retrieve employees from the HR department."
      ],
      "metadata": {
        "id": "VFYQqTo_KP1i"
      }
    },
    {
      "cell_type": "code",
      "source": [
        "%%sql\n",
        "SELECT * FROM Employees WHERE Department = 'HR';"
      ],
      "metadata": {
        "id": "QqPak3f7KUaK"
      },
      "execution_count": null,
      "outputs": []
    },
    {
      "cell_type": "markdown",
      "source": [
        "Retrieve employees hired after January 1, 2022.\n",
        "\n"
      ],
      "metadata": {
        "id": "M5EyHvwSKYMi"
      }
    },
    {
      "cell_type": "code",
      "source": [
        "%%sql\n",
        "SELECT * FROM Employees WHERE HireDate > '2022-01-01';"
      ],
      "metadata": {
        "id": "CUtQB_6BKcFr"
      },
      "execution_count": null,
      "outputs": []
    },
    {
      "cell_type": "markdown",
      "source": [
        "#Step 4: Updating Data (UPDATE)\n",
        "Let's say Alice Smith gets promoted and her salary increases."
      ],
      "metadata": {
        "id": "zAgBezyFKh4V"
      }
    },
    {
      "cell_type": "code",
      "source": [
        "%%sql\n",
        "UPDATE Employees\n",
        "SET Salary = 75000.00, Department = 'HR & Recruitment'\n",
        "WHERE EmployeeID = 2;"
      ],
      "metadata": {
        "id": "2faOyS2BKjLK"
      },
      "execution_count": null,
      "outputs": []
    },
    {
      "cell_type": "markdown",
      "source": [
        "#Step 5: Deleting Data (DELETE)\n",
        "If Bob Johnson leaves the company, we remove his record."
      ],
      "metadata": {
        "id": "WwJgIXqLKqCb"
      }
    },
    {
      "cell_type": "code",
      "source": [
        "%%sql\n",
        "DELETE FROM Employees WHERE Name = 'Bob Johnson';"
      ],
      "metadata": {
        "id": "CbZQAeQwKnbG"
      },
      "execution_count": null,
      "outputs": []
    },
    {
      "cell_type": "markdown",
      "source": [
        "#Final Thoughts\n",
        "This example covers CRUD operations in HR Management:\n",
        "\n",
        "* Create: We created the Employees table.\n",
        "\n",
        "* Insert: We added employee records.\n",
        "\n",
        "* Read: We retrieved employee data.\n",
        "\n",
        "* Update: We updated an employee's salary and department.\n",
        "\n",
        "* Delete: We removed an employee who left the company.\n",
        "\n",
        "\n"
      ],
      "metadata": {
        "id": "Tu4QTYWRKwuW"
      }
    }
  ]
}