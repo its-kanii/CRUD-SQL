{
  "nbformat": 4,
  "nbformat_minor": 0,
  "metadata": {
    "colab": {
      "provenance": [],
      "authorship_tag": "ABX9TyON2pKFsKxQxV4IJtt00EON",
      "include_colab_link": true
    },
    "kernelspec": {
      "name": "python3",
      "display_name": "Python 3"
    },
    "language_info": {
      "name": "python"
    }
  },
  "cells": [
    {
      "cell_type": "markdown",
      "metadata": {
        "id": "view-in-github",
        "colab_type": "text"
      },
      "source": [
        "<a href=\"https://colab.research.google.com/github/its-kanii/CRUD-SQL/blob/main/Healthcare_Management_System_sql.ipynb\" target=\"_parent\"><img src=\"https://colab.research.google.com/assets/colab-badge.svg\" alt=\"Open In Colab\"/></a>"
      ]
    },
    {
      "cell_type": "markdown",
      "source": [
        "#Healthcare Management System\n",
        "Let's implement CRUD operations in a Healthcare Management System, where we manage patient records in a hospital database.\n",
        "#Step 1: Creating the Table (CREATE)\n",
        "We'll create a Patients table to store patient records."
      ],
      "metadata": {
        "id": "uFPaEjmhIDHV"
      }
    },
    {
      "cell_type": "code",
      "execution_count": null,
      "metadata": {
        "id": "KBolpVZBH9IG"
      },
      "outputs": [],
      "source": [
        "%%sql\n",
        "CREATE TABLE Patients (\n",
        "    PatientID INT PRIMARY KEY AUTO_INCREMENT,\n",
        "    Name VARCHAR(100),\n",
        "    Age INT,\n",
        "    Gender VARCHAR(10),\n",
        "    Diagnosis VARCHAR(255),\n",
        "    AdmissionDate DATE\n",
        ");"
      ]
    },
    {
      "cell_type": "markdown",
      "source": [
        "#Step 2: Inserting Data (INSERT)\n",
        "Let's add some patient records."
      ],
      "metadata": {
        "id": "6TpBBE9hITv4"
      }
    },
    {
      "cell_type": "code",
      "source": [
        "%%sql\n",
        "INSERT INTO Patients (Name, Age, Gender, Diagnosis, AdmissionDate)\n",
        "VALUES\n",
        "('John Doe', 45, 'Male', 'Pneumonia', '2025-03-20'),\n",
        "('Alice Smith', 30, 'Female', 'Diabetes', '2025-03-18'),\n",
        "('Bob Johnson', 60, 'Male', 'Hypertension', '2025-03-19');"
      ],
      "metadata": {
        "id": "0AbadvIpIVUK"
      },
      "execution_count": null,
      "outputs": []
    },
    {
      "cell_type": "markdown",
      "source": [
        "#Step 3: Reading Data (SELECT)\n",
        "Retrieve all patient records."
      ],
      "metadata": {
        "id": "YldxiqmMIaxq"
      }
    },
    {
      "cell_type": "code",
      "source": [
        "%%sql\n",
        "SELECT * FROM Patients;"
      ],
      "metadata": {
        "id": "Ak0jfo4CIcSm"
      },
      "execution_count": null,
      "outputs": []
    },
    {
      "cell_type": "markdown",
      "source": [
        "#Step 4: Updating Data (UPDATE)\n",
        "Let's say John Doe's diagnosis changed to \"Bronchitis\"."
      ],
      "metadata": {
        "id": "ig6J0S2eIf18"
      }
    },
    {
      "cell_type": "code",
      "source": [
        "%%sql\n",
        "UPDATE Patients\n",
        "SET Diagnosis = 'Bronchitis'\n",
        "WHERE PatientID = 1;"
      ],
      "metadata": {
        "id": "Dz0dbH1jJCXH"
      },
      "execution_count": null,
      "outputs": []
    },
    {
      "cell_type": "markdown",
      "source": [
        "#Step 5: Deleting Data (DELETE)\n",
        "If Bob Johnson is discharged, we remove his record."
      ],
      "metadata": {
        "id": "Lau13NXkJFGS"
      }
    },
    {
      "cell_type": "code",
      "source": [
        "%%sql\n",
        "DELETE FROM Patients WHERE Name = 'Bob Johnson';"
      ],
      "metadata": {
        "id": "8d1L9O42JKU5"
      },
      "execution_count": null,
      "outputs": []
    },
    {
      "cell_type": "markdown",
      "source": [
        "#Final Thoughts\n",
        "This example demonstrates CRUD operations in Healthcare Management:\n",
        "\n",
        "* Create: We created the Patients table.\n",
        "\n",
        "* Insert: We added patient records.\n",
        "\n",
        "* Read: We retrieved patient data.\n",
        "\n",
        "* Update: We modified a patient's diagnosis.\n",
        "\n",
        "* Delete: We removed a discharged patient.\n",
        "\n",
        "\n",
        "\n",
        "\n"
      ],
      "metadata": {
        "id": "6oqdIBh3JOvy"
      }
    }
  ]
}